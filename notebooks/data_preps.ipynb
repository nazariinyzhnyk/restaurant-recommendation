{
 "cells": [
  {
   "cell_type": "code",
   "execution_count": 1,
   "metadata": {},
   "outputs": [],
   "source": [
    "import os\n",
    "\n",
    "import numpy as np\n",
    "import pandas as pd\n",
    "pd.set_option('display.max_columns', 500)"
   ]
  },
  {
   "cell_type": "code",
   "execution_count": 2,
   "metadata": {},
   "outputs": [],
   "source": [
    "DATA_DIR = os.path.join('..', 'data')"
   ]
  },
  {
   "cell_type": "code",
   "execution_count": 5,
   "metadata": {},
   "outputs": [],
   "source": [
    "train_cust =pd.read_csv(os.path.join(DATA_DIR, 'train_customers.csv'), parse_dates=['created_at','updated_at'])\n",
    "test_cust =pd.read_csv(os.path.join(DATA_DIR, 'test_customers.csv'), parse_dates=['created_at','updated_at'])\n",
    "train_loc =pd.read_csv(os.path.join(DATA_DIR, 'train_locations.csv'))\n",
    "test_loc =pd.read_csv(os.path.join(DATA_DIR, 'test_locations.csv'))\n",
    "vendors =pd.read_csv(os.path.join(DATA_DIR, 'vendors.csv'), parse_dates=['created_at','updated_at'])\n",
    "orders =pd.read_csv(os.path.join(DATA_DIR, 'orders.csv'), parse_dates=['created_at','delivery_date'])\n",
    "submission =pd.read_csv(os.path.join(DATA_DIR, 'SampleSubmission.csv'))"
   ]
  },
  {
   "cell_type": "code",
   "execution_count": 6,
   "metadata": {},
   "outputs": [],
   "source": [
    "train_cust= train_cust.rename({'akeed_customer_id': 'customer_id'}, axis=1)\n",
    "test_cust= test_cust.rename({'akeed_customer_id': 'customer_id'}, axis=1)"
   ]
  },
  {
   "cell_type": "code",
   "execution_count": 7,
   "metadata": {},
   "outputs": [
    {
     "data": {
      "text/html": [
       "<div>\n",
       "<style scoped>\n",
       "    .dataframe tbody tr th:only-of-type {\n",
       "        vertical-align: middle;\n",
       "    }\n",
       "\n",
       "    .dataframe tbody tr th {\n",
       "        vertical-align: top;\n",
       "    }\n",
       "\n",
       "    .dataframe thead th {\n",
       "        text-align: right;\n",
       "    }\n",
       "</style>\n",
       "<table border=\"1\" class=\"dataframe\">\n",
       "  <thead>\n",
       "    <tr style=\"text-align: right;\">\n",
       "      <th></th>\n",
       "      <th>customer_id</th>\n",
       "      <th>created_at</th>\n",
       "      <th>updated_at</th>\n",
       "    </tr>\n",
       "  </thead>\n",
       "  <tbody>\n",
       "    <tr>\n",
       "      <th>0</th>\n",
       "      <td>TCHWPBT</td>\n",
       "      <td>2018-02-07 19:16:23</td>\n",
       "      <td>2018-02-07 19:16:23</td>\n",
       "    </tr>\n",
       "    <tr>\n",
       "      <th>1</th>\n",
       "      <td>ZGFSYCZ</td>\n",
       "      <td>2018-02-09 12:04:42</td>\n",
       "      <td>2018-02-09 12:04:41</td>\n",
       "    </tr>\n",
       "    <tr>\n",
       "      <th>2</th>\n",
       "      <td>S2ALZFL</td>\n",
       "      <td>2018-03-14 18:31:43</td>\n",
       "      <td>2018-03-14 18:31:42</td>\n",
       "    </tr>\n",
       "    <tr>\n",
       "      <th>3</th>\n",
       "      <td>952DBJQ</td>\n",
       "      <td>2018-03-15 19:47:07</td>\n",
       "      <td>2018-03-15 19:47:07</td>\n",
       "    </tr>\n",
       "    <tr>\n",
       "      <th>4</th>\n",
       "      <td>1IX6FXS</td>\n",
       "      <td>2018-03-15 19:57:01</td>\n",
       "      <td>2018-03-15 19:57:01</td>\n",
       "    </tr>\n",
       "  </tbody>\n",
       "</table>\n",
       "</div>"
      ],
      "text/plain": [
       "  customer_id          created_at          updated_at\n",
       "0     TCHWPBT 2018-02-07 19:16:23 2018-02-07 19:16:23\n",
       "1     ZGFSYCZ 2018-02-09 12:04:42 2018-02-09 12:04:41\n",
       "2     S2ALZFL 2018-03-14 18:31:43 2018-03-14 18:31:42\n",
       "3     952DBJQ 2018-03-15 19:47:07 2018-03-15 19:47:07\n",
       "4     1IX6FXS 2018-03-15 19:57:01 2018-03-15 19:57:01"
      ]
     },
     "execution_count": 7,
     "metadata": {},
     "output_type": "execute_result"
    }
   ],
   "source": [
    "test_cust=test_cust[['customer_id','created_at','updated_at']]\n",
    "train_cust=train_cust[['customer_id','created_at','updated_at']];train_cust.head()"
   ]
  },
  {
   "cell_type": "code",
   "execution_count": 8,
   "metadata": {},
   "outputs": [],
   "source": [
    "test_cust = test_cust.drop_duplicates(subset='customer_id', keep=\"first\")\n",
    "train_cust = train_cust.drop_duplicates(subset='customer_id', keep=\"first\")"
   ]
  },
  {
   "cell_type": "code",
   "execution_count": 9,
   "metadata": {},
   "outputs": [],
   "source": [
    "train =pd.merge(train_cust, train_loc, on ='customer_id', how ='left')\n",
    "test =pd.merge(test_cust, test_loc, on ='customer_id', how ='left')"
   ]
  },
  {
   "cell_type": "code",
   "execution_count": 10,
   "metadata": {},
   "outputs": [],
   "source": [
    "test=test.assign(key=1).merge(vendors.assign(key=1), on='key').drop('key',axis=1)\n",
    "train=train.assign(key=1).merge(vendors.assign(key=1), on='key').drop('key',axis=1)"
   ]
  },
  {
   "cell_type": "code",
   "execution_count": 11,
   "metadata": {},
   "outputs": [],
   "source": [
    "test['location_number_obj']=test['location_number'].astype(str)\n",
    "test['id_obj']=test['id'].astype(str)\n",
    "train['location_number_obj']=train['location_number'].astype(str)\n",
    "train['id_obj']=train['id'].astype(str)"
   ]
  },
  {
   "cell_type": "code",
   "execution_count": 12,
   "metadata": {},
   "outputs": [],
   "source": [
    "test['CID X LOC_NUM X VENDOR'] = test['customer_id'] +' X '+ test['location_number_obj'] +' X '+ test['id_obj']\n",
    "train['CID X LOC_NUM X VENDOR'] = train['customer_id'] +' X '+ train['location_number_obj'] +' X '+ train['id_obj']"
   ]
  },
  {
   "cell_type": "code",
   "execution_count": 13,
   "metadata": {},
   "outputs": [],
   "source": [
    "test = pd.merge(test, submission, how='outer', on=['CID X LOC_NUM X VENDOR'])"
   ]
  },
  {
   "cell_type": "code",
   "execution_count": 14,
   "metadata": {},
   "outputs": [],
   "source": [
    "all_services = orders['CID X LOC_NUM X VENDOR'].values.tolist()\n",
    "train['target']= train['CID X LOC_NUM X VENDOR'].isin(all_services).astype(int).values"
   ]
  },
  {
   "cell_type": "code",
   "execution_count": 15,
   "metadata": {},
   "outputs": [
    {
     "data": {
      "text/plain": [
       "0    5724146\n",
       "1      78254\n",
       "Name: target, dtype: int64"
      ]
     },
     "execution_count": 15,
     "metadata": {},
     "output_type": "execute_result"
    }
   ],
   "source": [
    "train['target'].value_counts()"
   ]
  },
  {
   "cell_type": "code",
   "execution_count": 16,
   "metadata": {},
   "outputs": [],
   "source": [
    "test.drop('target', axis=1, inplace =True)"
   ]
  },
  {
   "cell_type": "code",
   "execution_count": 18,
   "metadata": {},
   "outputs": [
    {
     "name": "stdout",
     "output_type": "stream",
     "text": [
      "(1672000, 69) (5802400, 70)\n"
     ]
    }
   ],
   "source": [
    "print(test.shape, train.shape)"
   ]
  },
  {
   "cell_type": "code",
   "execution_count": 19,
   "metadata": {},
   "outputs": [],
   "source": [
    "def reduce_mem_usage(df, verbose=True):\n",
    "    numerics = ['int16', 'int32', 'int64', 'float16', 'float32', 'float64']\n",
    "    start_mem = df.memory_usage().sum() / 1024**2    \n",
    "    for col in df.columns:\n",
    "        col_type = df[col].dtypes\n",
    "        if col_type in numerics:\n",
    "            c_min = df[col].min()\n",
    "            c_max = df[col].max()\n",
    "            if str(col_type)[:3] == 'int':\n",
    "                if c_min > np.iinfo(np.int8).min and c_max < np.iinfo(np.int8).max:\n",
    "                    df[col] = df[col].astype(np.int8)\n",
    "                elif c_min > np.iinfo(np.int16).min and c_max < np.iinfo(np.int16).max:\n",
    "                    df[col] = df[col].astype(np.int16)\n",
    "                elif c_min > np.iinfo(np.int32).min and c_max < np.iinfo(np.int32).max:\n",
    "                    df[col] = df[col].astype(np.int32)\n",
    "                elif c_min > np.iinfo(np.int64).min and c_max < np.iinfo(np.int64).max:\n",
    "                    df[col] = df[col].astype(np.int64)  \n",
    "            else:\n",
    "                if c_min > np.finfo(np.float16).min and c_max < np.finfo(np.float16).max:\n",
    "                    df[col] = df[col].astype(np.float16)\n",
    "                elif c_min > np.finfo(np.float32).min and c_max < np.finfo(np.float32).max:\n",
    "                    df[col] = df[col].astype(np.float32)\n",
    "                else:\n",
    "                    df[col] = df[col].astype(np.float64)    \n",
    "    end_mem = df.memory_usage().sum() / 1024**2\n",
    "    if verbose: print('Mem. usage decreased to {:5.2f} Mb ({:.1f}% reduction)'.format(end_mem, 100 * (start_mem - end_mem) / start_mem))\n",
    "    return df"
   ]
  },
  {
   "cell_type": "code",
   "execution_count": 20,
   "metadata": {},
   "outputs": [
    {
     "name": "stdout",
     "output_type": "stream",
     "text": [
      "Mem. usage decreased to 2318.58 Mb (25.7% reduction)\n",
      "Mem. usage decreased to 676.09 Mb (24.3% reduction)\n"
     ]
    }
   ],
   "source": [
    "train = reduce_mem_usage(train)\n",
    "test = reduce_mem_usage(test)"
   ]
  },
  {
   "cell_type": "code",
   "execution_count": 21,
   "metadata": {},
   "outputs": [],
   "source": [
    "train.to_csv(os.path.join(DATA_DIR, 'train.csv'), index =False)\n",
    "test.to_csv(os.path.join(DATA_DIR, 'test.csv'), index =False)"
   ]
  },
  {
   "cell_type": "code",
   "execution_count": null,
   "metadata": {},
   "outputs": [],
   "source": []
  }
 ],
 "metadata": {
  "kernelspec": {
   "display_name": "Python 3",
   "language": "python",
   "name": "python3"
  },
  "language_info": {
   "codemirror_mode": {
    "name": "ipython",
    "version": 3
   },
   "file_extension": ".py",
   "mimetype": "text/x-python",
   "name": "python",
   "nbconvert_exporter": "python",
   "pygments_lexer": "ipython3",
   "version": "3.8.3"
  }
 },
 "nbformat": 4,
 "nbformat_minor": 4
}
