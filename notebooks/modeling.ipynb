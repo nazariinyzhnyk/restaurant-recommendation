{
 "cells": [
  {
   "cell_type": "code",
   "execution_count": 101,
   "metadata": {},
   "outputs": [],
   "source": [
    "import os\n",
    "\n",
    "import numpy as np\n",
    "import pandas as pd\n",
    "from sklearn.model_selection import KFold\n",
    "from sklearn.metrics import f1_score\n",
    "from imblearn.ensemble import BalancedRandomForestClassifier\n",
    "pd.set_option('display.max_columns', 500)"
   ]
  },
  {
   "cell_type": "code",
   "execution_count": 4,
   "metadata": {},
   "outputs": [],
   "source": [
    "DATA_DIR = os.path.join('..', 'data')"
   ]
  },
  {
   "cell_type": "code",
   "execution_count": 5,
   "metadata": {},
   "outputs": [
    {
     "name": "stderr",
     "output_type": "stream",
     "text": [
      "D:\\presenso\\progs\\anaconda\\lib\\site-packages\\IPython\\core\\interactiveshell.py:3071: DtypeWarning: Columns (0,1,2,4,11,16,17,20,25,27,28,29,30,31,32,33,34,35,36,37,38,39,40,41,42,43,44,45,46,47,48,49,50,51,52,53,54,55,57,58,59,62,63) have mixed types.Specify dtype option on import or set low_memory=False.\n",
      "  has_raised = await self.run_ast_nodes(code_ast.body, cell_name,\n"
     ]
    }
   ],
   "source": [
    "train = pd.read_csv(os.path.join(DATA_DIR, 'train.csv'))"
   ]
  },
  {
   "cell_type": "code",
   "execution_count": 162,
   "metadata": {},
   "outputs": [
    {
     "name": "stderr",
     "output_type": "stream",
     "text": [
      "D:\\presenso\\progs\\anaconda\\lib\\site-packages\\IPython\\core\\interactiveshell.py:3071: DtypeWarning: Columns (0,1,2,4,11,16,17,20,25,27,28,29,30,31,32,33,34,35,36,37,38,39,40,41,42,43,44,45,46,47,48,49,50,51,52,53,54,55,57,58,59,62,63) have mixed types.Specify dtype option on import or set low_memory=False.\n",
      "  has_raised = await self.run_ast_nodes(code_ast.body, cell_name,\n"
     ]
    }
   ],
   "source": [
    "test = pd.read_csv(os.path.join(DATA_DIR, 'test.csv'))"
   ]
  },
  {
   "cell_type": "code",
   "execution_count": 163,
   "metadata": {},
   "outputs": [
    {
     "data": {
      "text/plain": [
       "0    5724146\n",
       "1      78254\n",
       "Name: target, dtype: int64"
      ]
     },
     "execution_count": 163,
     "metadata": {},
     "output_type": "execute_result"
    }
   ],
   "source": [
    "train.target.value_counts()"
   ]
  },
  {
   "cell_type": "code",
   "execution_count": 164,
   "metadata": {},
   "outputs": [
    {
     "data": {
      "text/plain": [
       "0.013486488349648421"
      ]
     },
     "execution_count": 164,
     "metadata": {},
     "output_type": "execute_result"
    }
   ],
   "source": [
    "len(train[train['target'] == 1]) / len(train)"
   ]
  },
  {
   "cell_type": "code",
   "execution_count": 165,
   "metadata": {},
   "outputs": [],
   "source": [
    "# Totally inbalanced dataset. Will firstly verify distance hypothesis on data with target and then prepare a model"
   ]
  },
  {
   "cell_type": "code",
   "execution_count": 166,
   "metadata": {},
   "outputs": [
    {
     "data": {
      "text/html": [
       "<div>\n",
       "<style scoped>\n",
       "    .dataframe tbody tr th:only-of-type {\n",
       "        vertical-align: middle;\n",
       "    }\n",
       "\n",
       "    .dataframe tbody tr th {\n",
       "        vertical-align: top;\n",
       "    }\n",
       "\n",
       "    .dataframe thead th {\n",
       "        text-align: right;\n",
       "    }\n",
       "</style>\n",
       "<table border=\"1\" class=\"dataframe\">\n",
       "  <thead>\n",
       "    <tr style=\"text-align: right;\">\n",
       "      <th></th>\n",
       "      <th>location_number</th>\n",
       "      <th>latitude_x</th>\n",
       "      <th>longitude_x</th>\n",
       "      <th>id</th>\n",
       "      <th>latitude_y</th>\n",
       "      <th>longitude_y</th>\n",
       "      <th>vendor_category_id</th>\n",
       "      <th>delivery_charge</th>\n",
       "      <th>serving_distance</th>\n",
       "      <th>is_open</th>\n",
       "      <th>prepration_time</th>\n",
       "      <th>commission</th>\n",
       "      <th>discount_percentage</th>\n",
       "      <th>status</th>\n",
       "      <th>verified</th>\n",
       "      <th>rank</th>\n",
       "      <th>vendor_rating</th>\n",
       "      <th>country_id</th>\n",
       "      <th>city_id</th>\n",
       "      <th>target</th>\n",
       "    </tr>\n",
       "  </thead>\n",
       "  <tbody>\n",
       "    <tr>\n",
       "      <th>0</th>\n",
       "      <td>0</td>\n",
       "      <td>-96.44</td>\n",
       "      <td>-67.2</td>\n",
       "      <td>4</td>\n",
       "      <td>-0.5884</td>\n",
       "      <td>0.7544</td>\n",
       "      <td>2.0</td>\n",
       "      <td>0.0</td>\n",
       "      <td>6.0</td>\n",
       "      <td>1.0</td>\n",
       "      <td>15</td>\n",
       "      <td>0.0</td>\n",
       "      <td>0.0</td>\n",
       "      <td>1.0</td>\n",
       "      <td>1</td>\n",
       "      <td>11</td>\n",
       "      <td>4.4</td>\n",
       "      <td>1.0</td>\n",
       "      <td>1.0</td>\n",
       "      <td>0</td>\n",
       "    </tr>\n",
       "  </tbody>\n",
       "</table>\n",
       "</div>"
      ],
      "text/plain": [
       "   location_number  latitude_x  longitude_x  id  latitude_y  longitude_y  \\\n",
       "0                0      -96.44        -67.2   4     -0.5884       0.7544   \n",
       "\n",
       "   vendor_category_id  delivery_charge  serving_distance  is_open  \\\n",
       "0                 2.0              0.0               6.0      1.0   \n",
       "\n",
       "   prepration_time  commission  discount_percentage  status  verified  rank  \\\n",
       "0               15         0.0                  0.0     1.0         1    11   \n",
       "\n",
       "   vendor_rating  country_id  city_id  target  \n",
       "0            4.4         1.0      1.0       0  "
      ]
     },
     "execution_count": 166,
     "metadata": {},
     "output_type": "execute_result"
    }
   ],
   "source": [
    "train.head(1)"
   ]
  },
  {
   "cell_type": "code",
   "execution_count": 167,
   "metadata": {},
   "outputs": [],
   "source": [
    "test = test.dropna()\n",
    "test_ids = test['CID X LOC_NUM X VENDOR']\n",
    "cols_to_leave = ['location_number', 'latitude_x', 'longitude_x', 'id', 'latitude_y', 'longitude_y', 'vendor_category_id', 'delivery_charge', 'serving_distance', 'is_open', 'prepration_time', 'commission', 'discount_percentage', 'status', 'verified', 'rank', 'vendor_rating', 'country_id', 'city_id']"
   ]
  },
  {
   "cell_type": "code",
   "execution_count": 168,
   "metadata": {},
   "outputs": [
    {
     "data": {
      "text/plain": [
       "168264"
      ]
     },
     "execution_count": 168,
     "metadata": {},
     "output_type": "execute_result"
    }
   ],
   "source": [
    "len(test)"
   ]
  },
  {
   "cell_type": "code",
   "execution_count": 169,
   "metadata": {},
   "outputs": [
    {
     "data": {
      "text/plain": [
       "168264"
      ]
     },
     "execution_count": 169,
     "metadata": {},
     "output_type": "execute_result"
    }
   ],
   "source": [
    "len(test_ids)"
   ]
  },
  {
   "cell_type": "code",
   "execution_count": 170,
   "metadata": {},
   "outputs": [],
   "source": [
    "train = train[cols_to_leave + ['target']]"
   ]
  },
  {
   "cell_type": "code",
   "execution_count": 171,
   "metadata": {},
   "outputs": [],
   "source": [
    "test = test[cols_to_leave]"
   ]
  },
  {
   "cell_type": "code",
   "execution_count": 172,
   "metadata": {},
   "outputs": [
    {
     "data": {
      "text/html": [
       "<div>\n",
       "<style scoped>\n",
       "    .dataframe tbody tr th:only-of-type {\n",
       "        vertical-align: middle;\n",
       "    }\n",
       "\n",
       "    .dataframe tbody tr th {\n",
       "        vertical-align: top;\n",
       "    }\n",
       "\n",
       "    .dataframe thead th {\n",
       "        text-align: right;\n",
       "    }\n",
       "</style>\n",
       "<table border=\"1\" class=\"dataframe\">\n",
       "  <thead>\n",
       "    <tr style=\"text-align: right;\">\n",
       "      <th></th>\n",
       "      <th>location_number</th>\n",
       "      <th>latitude_x</th>\n",
       "      <th>longitude_x</th>\n",
       "      <th>id</th>\n",
       "      <th>latitude_y</th>\n",
       "      <th>longitude_y</th>\n",
       "      <th>vendor_category_id</th>\n",
       "      <th>delivery_charge</th>\n",
       "      <th>serving_distance</th>\n",
       "      <th>is_open</th>\n",
       "      <th>prepration_time</th>\n",
       "      <th>commission</th>\n",
       "      <th>discount_percentage</th>\n",
       "      <th>status</th>\n",
       "      <th>verified</th>\n",
       "      <th>rank</th>\n",
       "      <th>vendor_rating</th>\n",
       "      <th>country_id</th>\n",
       "      <th>city_id</th>\n",
       "      <th>target</th>\n",
       "    </tr>\n",
       "  </thead>\n",
       "  <tbody>\n",
       "    <tr>\n",
       "      <th>0</th>\n",
       "      <td>0</td>\n",
       "      <td>-96.44</td>\n",
       "      <td>-67.2</td>\n",
       "      <td>4</td>\n",
       "      <td>-0.5884</td>\n",
       "      <td>0.7544</td>\n",
       "      <td>2.0</td>\n",
       "      <td>0.0</td>\n",
       "      <td>6.0</td>\n",
       "      <td>1.0</td>\n",
       "      <td>15</td>\n",
       "      <td>0.0</td>\n",
       "      <td>0.0</td>\n",
       "      <td>1.0</td>\n",
       "      <td>1</td>\n",
       "      <td>11</td>\n",
       "      <td>4.4</td>\n",
       "      <td>1.0</td>\n",
       "      <td>1.0</td>\n",
       "      <td>0</td>\n",
       "    </tr>\n",
       "  </tbody>\n",
       "</table>\n",
       "</div>"
      ],
      "text/plain": [
       "   location_number  latitude_x  longitude_x  id  latitude_y  longitude_y  \\\n",
       "0                0      -96.44        -67.2   4     -0.5884       0.7544   \n",
       "\n",
       "   vendor_category_id  delivery_charge  serving_distance  is_open  \\\n",
       "0                 2.0              0.0               6.0      1.0   \n",
       "\n",
       "   prepration_time  commission  discount_percentage  status  verified  rank  \\\n",
       "0               15         0.0                  0.0     1.0         1    11   \n",
       "\n",
       "   vendor_rating  country_id  city_id  target  \n",
       "0            4.4         1.0      1.0       0  "
      ]
     },
     "execution_count": 172,
     "metadata": {},
     "output_type": "execute_result"
    }
   ],
   "source": [
    "train.head(1)"
   ]
  },
  {
   "cell_type": "code",
   "execution_count": 173,
   "metadata": {},
   "outputs": [],
   "source": [
    "train.commission = train.commission.fillna(0)\n",
    "test.commission = test.commission.fillna(0)"
   ]
  },
  {
   "cell_type": "code",
   "execution_count": 174,
   "metadata": {},
   "outputs": [],
   "source": [
    "train.latitude_x = train.latitude_x.fillna(0)\n",
    "train.latitude_y = train.latitude_y.fillna(0)\n",
    "train.longitude_x = train.longitude_x.fillna(0)\n",
    "train.longitude_y = train.longitude_y.fillna(0)\n",
    "\n",
    "test.latitude_x = test.latitude_x.fillna(0)\n",
    "test.latitude_y = test.latitude_y.fillna(0)\n",
    "test.longitude_x = test.longitude_x.fillna(0)\n",
    "test.longitude_y = test.longitude_y.fillna(0)"
   ]
  },
  {
   "cell_type": "code",
   "execution_count": 175,
   "metadata": {},
   "outputs": [],
   "source": [
    "train['deliv_dist_estimation_euc'] = np.sqrt(np.power(train['latitude_x'] - train['latitude_y'], 2) + \n",
    "                                      np.power(train['longitude_x'] - train['longitude_y'], 2))\n",
    "\n",
    "train['deliv_dist_estimation_mht_sqr'] = np.sqrt(np.abs(train['latitude_x'] - train['latitude_y']) + \n",
    "                                      np.abs(train['longitude_x'] - train['longitude_y']))\n",
    "\n",
    "train['deliv_dist_estimation_mht'] = np.abs(train['latitude_x'] - train['latitude_y']) + \\\n",
    "                                      np.abs(train['longitude_x'] - train['longitude_y'])\n",
    "    \n",
    "train['deliv_dist_estimation_geo'] = 2 * np.arcsin(np.sqrt(np.power(np.sin((train.latitude_x - train.longitude_x) / 2), 2) + \n",
    "                                                    np.power(np.sin((train.latitude_y - train.longitude_y) / 2), 2) * \n",
    "                                                    np.cos(train.latitude_x) * \n",
    "                                                    np.cos(train.longitude_x)))\n",
    "\n",
    "\n",
    "\n",
    "test['deliv_dist_estimation_euc'] = np.sqrt(np.power(test['latitude_x'] - test['latitude_y'], 2) + \n",
    "                                      np.power(test['longitude_x'] - test['longitude_y'], 2))\n",
    "\n",
    "test['deliv_dist_estimation_mht_sqr'] = np.sqrt(np.abs(test['latitude_x'] - test['latitude_y']) + \n",
    "                                      np.abs(test['longitude_x'] - test['longitude_y']))\n",
    "\n",
    "test['deliv_dist_estimation_mht'] = np.abs(test['latitude_x'] - test['latitude_y']) + \\\n",
    "                                      np.abs(test['longitude_x'] - test['longitude_y'])\n",
    "    \n",
    "test['deliv_dist_estimation_geo'] = 2 * np.arcsin(np.sqrt(np.power(np.sin((test.latitude_x - test.longitude_x) / 2), 2) + \n",
    "                                                    np.power(np.sin((test.latitude_y - test.longitude_y) / 2), 2) * \n",
    "                                                    np.cos(test.latitude_x) * \n",
    "                                                    np.cos(test.longitude_x)))"
   ]
  },
  {
   "cell_type": "code",
   "execution_count": 142,
   "metadata": {},
   "outputs": [
    {
     "data": {
      "text/plain": [
       "location_number                    int64\n",
       "latitude_x                       float64\n",
       "longitude_x                      float64\n",
       "id                                 int64\n",
       "latitude_y                       float64\n",
       "longitude_y                      float64\n",
       "vendor_category_id               float64\n",
       "delivery_charge                  float64\n",
       "serving_distance                 float64\n",
       "is_open                          float64\n",
       "prepration_time                    int64\n",
       "commission                       float64\n",
       "discount_percentage              float64\n",
       "status                           float64\n",
       "verified                           int64\n",
       "rank                               int64\n",
       "vendor_rating                    float64\n",
       "country_id                       float64\n",
       "city_id                          float64\n",
       "target                             int64\n",
       "deliv_dist_estimation_euc        float64\n",
       "deliv_dist_estimation_mht_sqr    float64\n",
       "deliv_dist_estimation_mht        float64\n",
       "deliv_dist_estimation_geo        float64\n",
       "dtype: object"
      ]
     },
     "execution_count": 142,
     "metadata": {},
     "output_type": "execute_result"
    }
   ],
   "source": [
    "train.dtypes"
   ]
  },
  {
   "cell_type": "code",
   "execution_count": 143,
   "metadata": {},
   "outputs": [
    {
     "data": {
      "text/plain": [
       "0"
      ]
     },
     "execution_count": 143,
     "metadata": {},
     "output_type": "execute_result"
    }
   ],
   "source": [
    "train['latitude_x'].isna().sum()  # this will result in big problems for us!"
   ]
  },
  {
   "cell_type": "code",
   "execution_count": 144,
   "metadata": {},
   "outputs": [
    {
     "data": {
      "text/plain": [
       "40300"
      ]
     },
     "execution_count": 144,
     "metadata": {},
     "output_type": "execute_result"
    }
   ],
   "source": [
    "test['city_id'].isna().sum()  # this will result in big problems for us!"
   ]
  },
  {
   "cell_type": "code",
   "execution_count": 95,
   "metadata": {},
   "outputs": [],
   "source": [
    "X = train\n",
    "y = X.target\n",
    "X = X.drop(columns=['target'])"
   ]
  },
  {
   "cell_type": "code",
   "execution_count": 96,
   "metadata": {},
   "outputs": [
    {
     "data": {
      "text/plain": [
       "(5802400, 23)"
      ]
     },
     "execution_count": 96,
     "metadata": {},
     "output_type": "execute_result"
    }
   ],
   "source": [
    "X.shape"
   ]
  },
  {
   "cell_type": "code",
   "execution_count": 97,
   "metadata": {},
   "outputs": [
    {
     "data": {
      "text/plain": [
       "(5802400,)"
      ]
     },
     "execution_count": 97,
     "metadata": {},
     "output_type": "execute_result"
    }
   ],
   "source": [
    "y.shape"
   ]
  },
  {
   "cell_type": "code",
   "execution_count": 98,
   "metadata": {},
   "outputs": [
    {
     "data": {
      "text/plain": [
       "5"
      ]
     },
     "execution_count": 98,
     "metadata": {},
     "output_type": "execute_result"
    }
   ],
   "source": [
    "kf = KFold(n_splits=5, random_state=42, shuffle=True)\n",
    "kf.get_n_splits(X)"
   ]
  },
  {
   "cell_type": "code",
   "execution_count": 99,
   "metadata": {},
   "outputs": [],
   "source": [
    "def model_fit(x_train, y_train, classifier, **params):\n",
    "    clf2 = classifier(**params)\n",
    "    clf2 = clf2.fit(x_train, y_train)\n",
    "    return clf2\n",
    "\n",
    "\n",
    "def model_predict(data, model):\n",
    "    return model.predict(data)"
   ]
  },
  {
   "cell_type": "code",
   "execution_count": 102,
   "metadata": {},
   "outputs": [
    {
     "name": "stdout",
     "output_type": "stream",
     "text": [
      "FOLD #1\n",
      "train: 4641920\n",
      "val: 1160480\n",
      "Validation Score: 0.0939191525638436\n",
      "FOLD #2\n",
      "train: 4641920\n",
      "val: 1160480\n",
      "Validation Score: 0.09365433260378954\n",
      "FOLD #3\n",
      "train: 4641920\n",
      "val: 1160480\n",
      "Validation Score: 0.09428609378884738\n",
      "FOLD #4\n",
      "train: 4641920\n",
      "val: 1160480\n",
      "Validation Score: 0.0930564815696733\n",
      "FOLD #5\n",
      "train: 4641920\n",
      "val: 1160480\n",
      "Validation Score: 0.09286337881096257\n"
     ]
    }
   ],
   "source": [
    "clf = BalancedRandomForestClassifier\n",
    "clf_params = {\n",
    "    \"n_estimators\": 200,\n",
    "    \"n_jobs\": 8\n",
    "}\n",
    "\n",
    "fold = 0\n",
    "scores = []\n",
    "\n",
    "for train_index, test_index in kf.split(X):\n",
    "    fold += 1\n",
    "    X_train, X_val = X.loc[X.index.intersection(train_index)], X.loc[X.index.intersection(test_index)]\n",
    "    y_train, y_val = y.loc[y.index.intersection(train_index)], y.loc[y.index.intersection(test_index)]\n",
    "\n",
    "    print(f'FOLD #{fold}')\n",
    "    print(\"train:\", len(X_train))\n",
    "    print(\"val:\", len(X_val))\n",
    "    model = model_fit(X_train, y_train, classifier=clf, **clf_params)\n",
    "\n",
    "    y_pred = model_predict(X_val, model)\n",
    "    score = f1_score(y_val, y_pred)\n",
    "    print('Validation Score: {}'.format(score))\n",
    "    scores.append(score)"
   ]
  },
  {
   "cell_type": "code",
   "execution_count": 105,
   "metadata": {},
   "outputs": [
    {
     "name": "stdout",
     "output_type": "stream",
     "text": [
      "MEAN OF SCOREs: 0.09355588786742328\n"
     ]
    }
   ],
   "source": [
    "print(f'MEAN OF SCOREs: {np.mean(scores)}')\n",
    "\n",
    "model = model_fit(X, y, classifier=clf, **clf_params)"
   ]
  },
  {
   "cell_type": "code",
   "execution_count": 176,
   "metadata": {},
   "outputs": [],
   "source": [
    "preds = model.predict(test)"
   ]
  },
  {
   "cell_type": "code",
   "execution_count": 177,
   "metadata": {},
   "outputs": [
    {
     "data": {
      "text/plain": [
       "168264"
      ]
     },
     "execution_count": 177,
     "metadata": {},
     "output_type": "execute_result"
    }
   ],
   "source": [
    "len(preds)"
   ]
  },
  {
   "cell_type": "code",
   "execution_count": 178,
   "metadata": {},
   "outputs": [
    {
     "data": {
      "text/plain": [
       "168264"
      ]
     },
     "execution_count": 178,
     "metadata": {},
     "output_type": "execute_result"
    }
   ],
   "source": [
    "len(test_ids)"
   ]
  },
  {
   "cell_type": "code",
   "execution_count": 179,
   "metadata": {},
   "outputs": [
    {
     "data": {
      "text/plain": [
       "(array([0, 1], dtype=int64), array([110749,  57515], dtype=int64))"
      ]
     },
     "execution_count": 179,
     "metadata": {},
     "output_type": "execute_result"
    }
   ],
   "source": [
    "np.unique(preds, return_counts=True)"
   ]
  },
  {
   "cell_type": "code",
   "execution_count": 180,
   "metadata": {},
   "outputs": [],
   "source": [
    "result = pd.DataFrame({'CID X LOC_NUM X VENDOR': test_ids, 'target': preds})\n",
    "#result.to_csv(os.path.join(DATA_DIR, 'submission.csv'), index=False)"
   ]
  },
  {
   "cell_type": "code",
   "execution_count": 189,
   "metadata": {},
   "outputs": [],
   "source": [
    "sbmsn = pd.read_csv(os.path.join(DATA_DIR, 'SampleSubmission.csv'))"
   ]
  },
  {
   "cell_type": "code",
   "execution_count": 190,
   "metadata": {},
   "outputs": [
    {
     "data": {
      "text/html": [
       "<div>\n",
       "<style scoped>\n",
       "    .dataframe tbody tr th:only-of-type {\n",
       "        vertical-align: middle;\n",
       "    }\n",
       "\n",
       "    .dataframe tbody tr th {\n",
       "        vertical-align: top;\n",
       "    }\n",
       "\n",
       "    .dataframe thead th {\n",
       "        text-align: right;\n",
       "    }\n",
       "</style>\n",
       "<table border=\"1\" class=\"dataframe\">\n",
       "  <thead>\n",
       "    <tr style=\"text-align: right;\">\n",
       "      <th></th>\n",
       "      <th>CID X LOC_NUM X VENDOR</th>\n",
       "      <th>target</th>\n",
       "    </tr>\n",
       "  </thead>\n",
       "  <tbody>\n",
       "    <tr>\n",
       "      <th>0</th>\n",
       "      <td>Z59FTQD X 0 X 243</td>\n",
       "      <td>0</td>\n",
       "    </tr>\n",
       "  </tbody>\n",
       "</table>\n",
       "</div>"
      ],
      "text/plain": [
       "  CID X LOC_NUM X VENDOR  target\n",
       "0      Z59FTQD X 0 X 243       0"
      ]
     },
     "execution_count": 190,
     "metadata": {},
     "output_type": "execute_result"
    }
   ],
   "source": [
    "sbmsn.head(1)"
   ]
  },
  {
   "cell_type": "code",
   "execution_count": 191,
   "metadata": {},
   "outputs": [],
   "source": [
    "sbmsn = pd.merge(sbmsn, result, on='CID X LOC_NUM X VENDOR', how='left')"
   ]
  },
  {
   "cell_type": "code",
   "execution_count": 192,
   "metadata": {},
   "outputs": [
    {
     "data": {
      "text/html": [
       "<div>\n",
       "<style scoped>\n",
       "    .dataframe tbody tr th:only-of-type {\n",
       "        vertical-align: middle;\n",
       "    }\n",
       "\n",
       "    .dataframe tbody tr th {\n",
       "        vertical-align: top;\n",
       "    }\n",
       "\n",
       "    .dataframe thead th {\n",
       "        text-align: right;\n",
       "    }\n",
       "</style>\n",
       "<table border=\"1\" class=\"dataframe\">\n",
       "  <thead>\n",
       "    <tr style=\"text-align: right;\">\n",
       "      <th></th>\n",
       "      <th>CID X LOC_NUM X VENDOR</th>\n",
       "      <th>target_x</th>\n",
       "      <th>target_y</th>\n",
       "    </tr>\n",
       "  </thead>\n",
       "  <tbody>\n",
       "    <tr>\n",
       "      <th>0</th>\n",
       "      <td>Z59FTQD X 0 X 243</td>\n",
       "      <td>0</td>\n",
       "      <td>NaN</td>\n",
       "    </tr>\n",
       "    <tr>\n",
       "      <th>1</th>\n",
       "      <td>0JP29SK X 0 X 243</td>\n",
       "      <td>0</td>\n",
       "      <td>NaN</td>\n",
       "    </tr>\n",
       "    <tr>\n",
       "      <th>2</th>\n",
       "      <td>0JP29SK X 1 X 243</td>\n",
       "      <td>0</td>\n",
       "      <td>NaN</td>\n",
       "    </tr>\n",
       "    <tr>\n",
       "      <th>3</th>\n",
       "      <td>0JP29SK X 2 X 243</td>\n",
       "      <td>0</td>\n",
       "      <td>NaN</td>\n",
       "    </tr>\n",
       "    <tr>\n",
       "      <th>4</th>\n",
       "      <td>0JP29SK X 3 X 243</td>\n",
       "      <td>0</td>\n",
       "      <td>NaN</td>\n",
       "    </tr>\n",
       "  </tbody>\n",
       "</table>\n",
       "</div>"
      ],
      "text/plain": [
       "  CID X LOC_NUM X VENDOR  target_x  target_y\n",
       "0      Z59FTQD X 0 X 243         0       NaN\n",
       "1      0JP29SK X 0 X 243         0       NaN\n",
       "2      0JP29SK X 1 X 243         0       NaN\n",
       "3      0JP29SK X 2 X 243         0       NaN\n",
       "4      0JP29SK X 3 X 243         0       NaN"
      ]
     },
     "execution_count": 192,
     "metadata": {},
     "output_type": "execute_result"
    }
   ],
   "source": [
    "sbmsn.head()"
   ]
  },
  {
   "cell_type": "code",
   "execution_count": 201,
   "metadata": {},
   "outputs": [
    {
     "data": {
      "text/html": [
       "<div>\n",
       "<style scoped>\n",
       "    .dataframe tbody tr th:only-of-type {\n",
       "        vertical-align: middle;\n",
       "    }\n",
       "\n",
       "    .dataframe tbody tr th {\n",
       "        vertical-align: top;\n",
       "    }\n",
       "\n",
       "    .dataframe thead th {\n",
       "        text-align: right;\n",
       "    }\n",
       "</style>\n",
       "<table border=\"1\" class=\"dataframe\">\n",
       "  <thead>\n",
       "    <tr style=\"text-align: right;\">\n",
       "      <th></th>\n",
       "      <th>CID X LOC_NUM X VENDOR</th>\n",
       "      <th>target_x</th>\n",
       "      <th>target_y</th>\n",
       "    </tr>\n",
       "  </thead>\n",
       "  <tbody>\n",
       "    <tr>\n",
       "      <th>0</th>\n",
       "      <td>Z59FTQD X 0 X 243</td>\n",
       "      <td>0</td>\n",
       "      <td>0</td>\n",
       "    </tr>\n",
       "    <tr>\n",
       "      <th>1</th>\n",
       "      <td>0JP29SK X 0 X 243</td>\n",
       "      <td>0</td>\n",
       "      <td>0</td>\n",
       "    </tr>\n",
       "    <tr>\n",
       "      <th>2</th>\n",
       "      <td>0JP29SK X 1 X 243</td>\n",
       "      <td>0</td>\n",
       "      <td>0</td>\n",
       "    </tr>\n",
       "    <tr>\n",
       "      <th>3</th>\n",
       "      <td>0JP29SK X 2 X 243</td>\n",
       "      <td>0</td>\n",
       "      <td>0</td>\n",
       "    </tr>\n",
       "    <tr>\n",
       "      <th>4</th>\n",
       "      <td>0JP29SK X 3 X 243</td>\n",
       "      <td>0</td>\n",
       "      <td>0</td>\n",
       "    </tr>\n",
       "  </tbody>\n",
       "</table>\n",
       "</div>"
      ],
      "text/plain": [
       "  CID X LOC_NUM X VENDOR  target_x  target_y\n",
       "0      Z59FTQD X 0 X 243         0         0\n",
       "1      0JP29SK X 0 X 243         0         0\n",
       "2      0JP29SK X 1 X 243         0         0\n",
       "3      0JP29SK X 2 X 243         0         0\n",
       "4      0JP29SK X 3 X 243         0         0"
      ]
     },
     "execution_count": 201,
     "metadata": {},
     "output_type": "execute_result"
    }
   ],
   "source": [
    "sbmsn = sbmsn.fillna(0)\n",
    "sbmsn['target_y'] = pd.to_numeric(sbmsn.target_y, downcast='integer')\n",
    "sbmsn.head()"
   ]
  },
  {
   "cell_type": "code",
   "execution_count": 197,
   "metadata": {},
   "outputs": [
    {
     "data": {
      "text/plain": [
       "0.0    1614485\n",
       "1.0      57515\n",
       "Name: target_y, dtype: int64"
      ]
     },
     "execution_count": 197,
     "metadata": {},
     "output_type": "execute_result"
    }
   ],
   "source": [
    "sbmsn['target_y'].value_counts()"
   ]
  },
  {
   "cell_type": "code",
   "execution_count": 202,
   "metadata": {},
   "outputs": [],
   "source": [
    "sbmsn['target'] = sbmsn['target_y']"
   ]
  },
  {
   "cell_type": "code",
   "execution_count": 203,
   "metadata": {},
   "outputs": [],
   "source": [
    "del sbmsn['target_x']\n",
    "del sbmsn['target_y']"
   ]
  },
  {
   "cell_type": "code",
   "execution_count": 205,
   "metadata": {},
   "outputs": [],
   "source": [
    "sbmsn.to_csv(os.path.join(DATA_DIR, 'submission_fin.csv'), index=False)"
   ]
  },
  {
   "cell_type": "code",
   "execution_count": null,
   "metadata": {},
   "outputs": [],
   "source": []
  }
 ],
 "metadata": {
  "kernelspec": {
   "display_name": "Python 3",
   "language": "python",
   "name": "python3"
  },
  "language_info": {
   "codemirror_mode": {
    "name": "ipython",
    "version": 3
   },
   "file_extension": ".py",
   "mimetype": "text/x-python",
   "name": "python",
   "nbconvert_exporter": "python",
   "pygments_lexer": "ipython3",
   "version": "3.8.3"
  }
 },
 "nbformat": 4,
 "nbformat_minor": 4
}
