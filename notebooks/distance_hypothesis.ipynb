{
 "cells": [
  {
   "cell_type": "code",
   "execution_count": 81,
   "metadata": {},
   "outputs": [],
   "source": [
    "import os\n",
    "from typing import Tuple\n",
    "\n",
    "import numpy as np\n",
    "import pandas as pd\n",
    "import matplotlib.pyplot as plt\n",
    "pd.set_option('display.max_columns', 500)"
   ]
  },
  {
   "cell_type": "code",
   "execution_count": 2,
   "metadata": {},
   "outputs": [],
   "source": [
    "DATA_DIR = os.path.join('..', 'data')"
   ]
  },
  {
   "cell_type": "code",
   "execution_count": 12,
   "metadata": {},
   "outputs": [
    {
     "name": "stderr",
     "output_type": "stream",
     "text": [
      "C:\\Users\\1\\anaconda3\\lib\\site-packages\\IPython\\core\\interactiveshell.py:3071: DtypeWarning: Columns (15,16,18,19,20) have mixed types.Specify dtype option on import or set low_memory=False.\n",
      "  has_raised = await self.run_ast_nodes(code_ast.body, cell_name,\n"
     ]
    }
   ],
   "source": [
    "orders = pd.read_csv(os.path.join(DATA_DIR, 'orders.csv'))\n",
    "orders = orders[['customer_id', 'LOCATION_NUMBER', 'vendor_id', 'deliverydistance']]\n",
    "\n",
    "vendors = pd.read_csv(os.path.join(DATA_DIR, 'vendors.csv'))\n",
    "vendors = vendors[['id', 'latitude', 'longitude', 'serving_distance']]\n",
    "\n",
    "locs = pd.read_csv(os.path.join(DATA_DIR, 'train_locations.csv'))\n",
    "locs = locs[['customer_id', 'location_number', 'latitude', 'longitude']]"
   ]
  },
  {
   "cell_type": "code",
   "execution_count": 13,
   "metadata": {},
   "outputs": [
    {
     "data": {
      "text/html": [
       "<div>\n",
       "<style scoped>\n",
       "    .dataframe tbody tr th:only-of-type {\n",
       "        vertical-align: middle;\n",
       "    }\n",
       "\n",
       "    .dataframe tbody tr th {\n",
       "        vertical-align: top;\n",
       "    }\n",
       "\n",
       "    .dataframe thead th {\n",
       "        text-align: right;\n",
       "    }\n",
       "</style>\n",
       "<table border=\"1\" class=\"dataframe\">\n",
       "  <thead>\n",
       "    <tr style=\"text-align: right;\">\n",
       "      <th></th>\n",
       "      <th>customer_id</th>\n",
       "      <th>LOCATION_NUMBER</th>\n",
       "      <th>vendor_id</th>\n",
       "      <th>deliverydistance</th>\n",
       "    </tr>\n",
       "  </thead>\n",
       "  <tbody>\n",
       "    <tr>\n",
       "      <th>0</th>\n",
       "      <td>92PEE24</td>\n",
       "      <td>0</td>\n",
       "      <td>105</td>\n",
       "      <td>0.0</td>\n",
       "    </tr>\n",
       "    <tr>\n",
       "      <th>1</th>\n",
       "      <td>QS68UD8</td>\n",
       "      <td>0</td>\n",
       "      <td>294</td>\n",
       "      <td>0.0</td>\n",
       "    </tr>\n",
       "    <tr>\n",
       "      <th>2</th>\n",
       "      <td>MB7VY5F</td>\n",
       "      <td>0</td>\n",
       "      <td>83</td>\n",
       "      <td>0.0</td>\n",
       "    </tr>\n",
       "  </tbody>\n",
       "</table>\n",
       "</div>"
      ],
      "text/plain": [
       "  customer_id  LOCATION_NUMBER  vendor_id  deliverydistance\n",
       "0     92PEE24                0        105               0.0\n",
       "1     QS68UD8                0        294               0.0\n",
       "2     MB7VY5F                0         83               0.0"
      ]
     },
     "execution_count": 13,
     "metadata": {},
     "output_type": "execute_result"
    }
   ],
   "source": [
    "orders.head(3)"
   ]
  },
  {
   "cell_type": "code",
   "execution_count": 14,
   "metadata": {},
   "outputs": [
    {
     "data": {
      "text/html": [
       "<div>\n",
       "<style scoped>\n",
       "    .dataframe tbody tr th:only-of-type {\n",
       "        vertical-align: middle;\n",
       "    }\n",
       "\n",
       "    .dataframe tbody tr th {\n",
       "        vertical-align: top;\n",
       "    }\n",
       "\n",
       "    .dataframe thead th {\n",
       "        text-align: right;\n",
       "    }\n",
       "</style>\n",
       "<table border=\"1\" class=\"dataframe\">\n",
       "  <thead>\n",
       "    <tr style=\"text-align: right;\">\n",
       "      <th></th>\n",
       "      <th>id</th>\n",
       "      <th>latitude</th>\n",
       "      <th>longitude</th>\n",
       "      <th>serving_distance</th>\n",
       "    </tr>\n",
       "  </thead>\n",
       "  <tbody>\n",
       "    <tr>\n",
       "      <th>0</th>\n",
       "      <td>4</td>\n",
       "      <td>-0.588596</td>\n",
       "      <td>0.754434</td>\n",
       "      <td>6.0</td>\n",
       "    </tr>\n",
       "    <tr>\n",
       "      <th>1</th>\n",
       "      <td>13</td>\n",
       "      <td>-0.471654</td>\n",
       "      <td>0.744470</td>\n",
       "      <td>5.0</td>\n",
       "    </tr>\n",
       "    <tr>\n",
       "      <th>2</th>\n",
       "      <td>20</td>\n",
       "      <td>-0.407527</td>\n",
       "      <td>0.643681</td>\n",
       "      <td>8.0</td>\n",
       "    </tr>\n",
       "  </tbody>\n",
       "</table>\n",
       "</div>"
      ],
      "text/plain": [
       "   id  latitude  longitude  serving_distance\n",
       "0   4 -0.588596   0.754434               6.0\n",
       "1  13 -0.471654   0.744470               5.0\n",
       "2  20 -0.407527   0.643681               8.0"
      ]
     },
     "execution_count": 14,
     "metadata": {},
     "output_type": "execute_result"
    }
   ],
   "source": [
    "vendors.head(3)"
   ]
  },
  {
   "cell_type": "code",
   "execution_count": 15,
   "metadata": {},
   "outputs": [
    {
     "data": {
      "text/html": [
       "<div>\n",
       "<style scoped>\n",
       "    .dataframe tbody tr th:only-of-type {\n",
       "        vertical-align: middle;\n",
       "    }\n",
       "\n",
       "    .dataframe tbody tr th {\n",
       "        vertical-align: top;\n",
       "    }\n",
       "\n",
       "    .dataframe thead th {\n",
       "        text-align: right;\n",
       "    }\n",
       "</style>\n",
       "<table border=\"1\" class=\"dataframe\">\n",
       "  <thead>\n",
       "    <tr style=\"text-align: right;\">\n",
       "      <th></th>\n",
       "      <th>customer_id</th>\n",
       "      <th>location_number</th>\n",
       "      <th>latitude</th>\n",
       "      <th>longitude</th>\n",
       "    </tr>\n",
       "  </thead>\n",
       "  <tbody>\n",
       "    <tr>\n",
       "      <th>0</th>\n",
       "      <td>02SFNJH</td>\n",
       "      <td>0</td>\n",
       "      <td>1.682392</td>\n",
       "      <td>-78.789737</td>\n",
       "    </tr>\n",
       "    <tr>\n",
       "      <th>1</th>\n",
       "      <td>02SFNJH</td>\n",
       "      <td>1</td>\n",
       "      <td>1.679137</td>\n",
       "      <td>0.766823</td>\n",
       "    </tr>\n",
       "    <tr>\n",
       "      <th>2</th>\n",
       "      <td>02SFNJH</td>\n",
       "      <td>2</td>\n",
       "      <td>-0.498648</td>\n",
       "      <td>0.661241</td>\n",
       "    </tr>\n",
       "  </tbody>\n",
       "</table>\n",
       "</div>"
      ],
      "text/plain": [
       "  customer_id  location_number  latitude  longitude\n",
       "0     02SFNJH                0  1.682392 -78.789737\n",
       "1     02SFNJH                1  1.679137   0.766823\n",
       "2     02SFNJH                2 -0.498648   0.661241"
      ]
     },
     "execution_count": 15,
     "metadata": {},
     "output_type": "execute_result"
    }
   ],
   "source": [
    "locs.head(3)"
   ]
  },
  {
   "cell_type": "code",
   "execution_count": 20,
   "metadata": {},
   "outputs": [
    {
     "data": {
      "text/plain": [
       "'Ratio of orders with non-zero distance: 0.5889743760300954'"
      ]
     },
     "execution_count": 20,
     "metadata": {},
     "output_type": "execute_result"
    }
   ],
   "source": [
    "f\"Ratio of orders with non-zero distance: {len(orders[orders.deliverydistance != 0]) / len(orders)}\""
   ]
  },
  {
   "cell_type": "code",
   "execution_count": 21,
   "metadata": {},
   "outputs": [],
   "source": [
    "orders = orders[orders.deliverydistance != 0]"
   ]
  },
  {
   "cell_type": "code",
   "execution_count": 46,
   "metadata": {},
   "outputs": [
    {
     "data": {
      "text/plain": [
       "79690"
      ]
     },
     "execution_count": 46,
     "metadata": {},
     "output_type": "execute_result"
    }
   ],
   "source": [
    "len(orders)"
   ]
  },
  {
   "cell_type": "code",
   "execution_count": 23,
   "metadata": {},
   "outputs": [
    {
     "data": {
      "text/plain": [
       "set()"
      ]
     },
     "execution_count": 23,
     "metadata": {},
     "output_type": "execute_result"
    }
   ],
   "source": [
    "set(orders.customer_id) - set(locs.customer_id)"
   ]
  },
  {
   "cell_type": "code",
   "execution_count": 43,
   "metadata": {},
   "outputs": [],
   "source": [
    "df = pd.merge(orders, locs,  how='inner', left_on=['customer_id','LOCATION_NUMBER'], right_on = ['customer_id','location_number'])"
   ]
  },
  {
   "cell_type": "code",
   "execution_count": 44,
   "metadata": {},
   "outputs": [
    {
     "data": {
      "text/html": [
       "<div>\n",
       "<style scoped>\n",
       "    .dataframe tbody tr th:only-of-type {\n",
       "        vertical-align: middle;\n",
       "    }\n",
       "\n",
       "    .dataframe tbody tr th {\n",
       "        vertical-align: top;\n",
       "    }\n",
       "\n",
       "    .dataframe thead th {\n",
       "        text-align: right;\n",
       "    }\n",
       "</style>\n",
       "<table border=\"1\" class=\"dataframe\">\n",
       "  <thead>\n",
       "    <tr style=\"text-align: right;\">\n",
       "      <th></th>\n",
       "      <th>cust_id</th>\n",
       "      <th>loc_num</th>\n",
       "      <th>vendor_id</th>\n",
       "      <th>deliverydistance</th>\n",
       "      <th>lat_cust</th>\n",
       "      <th>long_cust</th>\n",
       "    </tr>\n",
       "  </thead>\n",
       "  <tbody>\n",
       "    <tr>\n",
       "      <th>0</th>\n",
       "      <td>BCNOR7E</td>\n",
       "      <td>0</td>\n",
       "      <td>201</td>\n",
       "      <td>1.68</td>\n",
       "      <td>0.120613</td>\n",
       "      <td>0.543505</td>\n",
       "    </tr>\n",
       "    <tr>\n",
       "      <th>1</th>\n",
       "      <td>2JJAO46</td>\n",
       "      <td>2</td>\n",
       "      <td>20</td>\n",
       "      <td>3.87</td>\n",
       "      <td>-0.071489</td>\n",
       "      <td>0.634343</td>\n",
       "    </tr>\n",
       "    <tr>\n",
       "      <th>2</th>\n",
       "      <td>2JJAO46</td>\n",
       "      <td>2</td>\n",
       "      <td>20</td>\n",
       "      <td>3.87</td>\n",
       "      <td>-0.071489</td>\n",
       "      <td>0.634343</td>\n",
       "    </tr>\n",
       "  </tbody>\n",
       "</table>\n",
       "</div>"
      ],
      "text/plain": [
       "   cust_id  loc_num  vendor_id  deliverydistance  lat_cust  long_cust\n",
       "0  BCNOR7E        0        201              1.68  0.120613   0.543505\n",
       "1  2JJAO46        2         20              3.87 -0.071489   0.634343\n",
       "2  2JJAO46        2         20              3.87 -0.071489   0.634343"
      ]
     },
     "execution_count": 44,
     "metadata": {},
     "output_type": "execute_result"
    }
   ],
   "source": [
    "df.columns = ['cust_id', 'loc_num', 'vendor_id', 'deliverydistance', 'location_number', 'lat_cust', 'long_cust']\n",
    "del df['location_number']\n",
    "df.head(3)"
   ]
  },
  {
   "cell_type": "code",
   "execution_count": 45,
   "metadata": {},
   "outputs": [
    {
     "data": {
      "text/plain": [
       "79690"
      ]
     },
     "execution_count": 45,
     "metadata": {},
     "output_type": "execute_result"
    }
   ],
   "source": [
    "len(df)"
   ]
  },
  {
   "cell_type": "code",
   "execution_count": 47,
   "metadata": {},
   "outputs": [],
   "source": [
    "df = pd.merge(df, vendors, how='inner', left_on='vendor_id', right_on='id')"
   ]
  },
  {
   "cell_type": "code",
   "execution_count": 48,
   "metadata": {},
   "outputs": [
    {
     "data": {
      "text/plain": [
       "79690"
      ]
     },
     "execution_count": 48,
     "metadata": {},
     "output_type": "execute_result"
    }
   ],
   "source": [
    "len(df)"
   ]
  },
  {
   "cell_type": "code",
   "execution_count": 54,
   "metadata": {},
   "outputs": [
    {
     "data": {
      "text/html": [
       "<div>\n",
       "<style scoped>\n",
       "    .dataframe tbody tr th:only-of-type {\n",
       "        vertical-align: middle;\n",
       "    }\n",
       "\n",
       "    .dataframe tbody tr th {\n",
       "        vertical-align: top;\n",
       "    }\n",
       "\n",
       "    .dataframe thead th {\n",
       "        text-align: right;\n",
       "    }\n",
       "</style>\n",
       "<table border=\"1\" class=\"dataframe\">\n",
       "  <thead>\n",
       "    <tr style=\"text-align: right;\">\n",
       "      <th></th>\n",
       "      <th>deliv_dist</th>\n",
       "      <th>lat_cust</th>\n",
       "      <th>long_cust</th>\n",
       "      <th>lat_rest</th>\n",
       "      <th>long_rest</th>\n",
       "      <th>serv_dist</th>\n",
       "    </tr>\n",
       "  </thead>\n",
       "  <tbody>\n",
       "    <tr>\n",
       "      <th>0</th>\n",
       "      <td>1.68</td>\n",
       "      <td>0.120613</td>\n",
       "      <td>0.543505</td>\n",
       "      <td>0.015623</td>\n",
       "      <td>0.531628</td>\n",
       "      <td>15.0</td>\n",
       "    </tr>\n",
       "    <tr>\n",
       "      <th>1</th>\n",
       "      <td>13.62</td>\n",
       "      <td>-0.822444</td>\n",
       "      <td>0.749720</td>\n",
       "      <td>0.015623</td>\n",
       "      <td>0.531628</td>\n",
       "      <td>15.0</td>\n",
       "    </tr>\n",
       "    <tr>\n",
       "      <th>2</th>\n",
       "      <td>2.61</td>\n",
       "      <td>0.039638</td>\n",
       "      <td>0.580358</td>\n",
       "      <td>0.015623</td>\n",
       "      <td>0.531628</td>\n",
       "      <td>15.0</td>\n",
       "    </tr>\n",
       "    <tr>\n",
       "      <th>3</th>\n",
       "      <td>6.91</td>\n",
       "      <td>0.290948</td>\n",
       "      <td>0.418965</td>\n",
       "      <td>0.015623</td>\n",
       "      <td>0.531628</td>\n",
       "      <td>15.0</td>\n",
       "    </tr>\n",
       "    <tr>\n",
       "      <th>4</th>\n",
       "      <td>6.91</td>\n",
       "      <td>0.290948</td>\n",
       "      <td>0.418965</td>\n",
       "      <td>0.015623</td>\n",
       "      <td>0.531628</td>\n",
       "      <td>15.0</td>\n",
       "    </tr>\n",
       "    <tr>\n",
       "      <th>5</th>\n",
       "      <td>14.40</td>\n",
       "      <td>-0.721908</td>\n",
       "      <td>0.787174</td>\n",
       "      <td>0.015623</td>\n",
       "      <td>0.531628</td>\n",
       "      <td>15.0</td>\n",
       "    </tr>\n",
       "    <tr>\n",
       "      <th>6</th>\n",
       "      <td>14.40</td>\n",
       "      <td>-0.721908</td>\n",
       "      <td>0.787174</td>\n",
       "      <td>0.015623</td>\n",
       "      <td>0.531628</td>\n",
       "      <td>15.0</td>\n",
       "    </tr>\n",
       "    <tr>\n",
       "      <th>7</th>\n",
       "      <td>8.34</td>\n",
       "      <td>0.609002</td>\n",
       "      <td>0.434737</td>\n",
       "      <td>0.015623</td>\n",
       "      <td>0.531628</td>\n",
       "      <td>15.0</td>\n",
       "    </tr>\n",
       "    <tr>\n",
       "      <th>8</th>\n",
       "      <td>12.41</td>\n",
       "      <td>0.294405</td>\n",
       "      <td>0.289774</td>\n",
       "      <td>0.015623</td>\n",
       "      <td>0.531628</td>\n",
       "      <td>15.0</td>\n",
       "    </tr>\n",
       "    <tr>\n",
       "      <th>9</th>\n",
       "      <td>2.61</td>\n",
       "      <td>0.076112</td>\n",
       "      <td>0.572709</td>\n",
       "      <td>0.015623</td>\n",
       "      <td>0.531628</td>\n",
       "      <td>15.0</td>\n",
       "    </tr>\n",
       "    <tr>\n",
       "      <th>10</th>\n",
       "      <td>3.29</td>\n",
       "      <td>0.214974</td>\n",
       "      <td>0.576834</td>\n",
       "      <td>0.015623</td>\n",
       "      <td>0.531628</td>\n",
       "      <td>15.0</td>\n",
       "    </tr>\n",
       "    <tr>\n",
       "      <th>11</th>\n",
       "      <td>3.29</td>\n",
       "      <td>0.214974</td>\n",
       "      <td>0.576834</td>\n",
       "      <td>0.015623</td>\n",
       "      <td>0.531628</td>\n",
       "      <td>15.0</td>\n",
       "    </tr>\n",
       "    <tr>\n",
       "      <th>12</th>\n",
       "      <td>10.62</td>\n",
       "      <td>-0.727142</td>\n",
       "      <td>0.720090</td>\n",
       "      <td>0.015623</td>\n",
       "      <td>0.531628</td>\n",
       "      <td>15.0</td>\n",
       "    </tr>\n",
       "    <tr>\n",
       "      <th>13</th>\n",
       "      <td>10.62</td>\n",
       "      <td>-0.727142</td>\n",
       "      <td>0.720090</td>\n",
       "      <td>0.015623</td>\n",
       "      <td>0.531628</td>\n",
       "      <td>15.0</td>\n",
       "    </tr>\n",
       "    <tr>\n",
       "      <th>14</th>\n",
       "      <td>10.62</td>\n",
       "      <td>-0.727142</td>\n",
       "      <td>0.720090</td>\n",
       "      <td>0.015623</td>\n",
       "      <td>0.531628</td>\n",
       "      <td>15.0</td>\n",
       "    </tr>\n",
       "  </tbody>\n",
       "</table>\n",
       "</div>"
      ],
      "text/plain": [
       "    deliv_dist  lat_cust  long_cust  lat_rest  long_rest  serv_dist\n",
       "0         1.68  0.120613   0.543505  0.015623   0.531628       15.0\n",
       "1        13.62 -0.822444   0.749720  0.015623   0.531628       15.0\n",
       "2         2.61  0.039638   0.580358  0.015623   0.531628       15.0\n",
       "3         6.91  0.290948   0.418965  0.015623   0.531628       15.0\n",
       "4         6.91  0.290948   0.418965  0.015623   0.531628       15.0\n",
       "5        14.40 -0.721908   0.787174  0.015623   0.531628       15.0\n",
       "6        14.40 -0.721908   0.787174  0.015623   0.531628       15.0\n",
       "7         8.34  0.609002   0.434737  0.015623   0.531628       15.0\n",
       "8        12.41  0.294405   0.289774  0.015623   0.531628       15.0\n",
       "9         2.61  0.076112   0.572709  0.015623   0.531628       15.0\n",
       "10        3.29  0.214974   0.576834  0.015623   0.531628       15.0\n",
       "11        3.29  0.214974   0.576834  0.015623   0.531628       15.0\n",
       "12       10.62 -0.727142   0.720090  0.015623   0.531628       15.0\n",
       "13       10.62 -0.727142   0.720090  0.015623   0.531628       15.0\n",
       "14       10.62 -0.727142   0.720090  0.015623   0.531628       15.0"
      ]
     },
     "execution_count": 54,
     "metadata": {},
     "output_type": "execute_result"
    }
   ],
   "source": [
    "df = df[['deliverydistance', 'lat_cust', 'long_cust', 'latitude', 'longitude', 'serving_distance']]\n",
    "df.columns = ['deliv_dist', 'lat_cust', 'long_cust', 'lat_rest', 'long_rest', 'serv_dist']\n",
    "df.head(15)"
   ]
  },
  {
   "cell_type": "code",
   "execution_count": 58,
   "metadata": {},
   "outputs": [],
   "source": [
    "df['serv_m_deliv'] = df.serv_dist - df.deliv_dist"
   ]
  },
  {
   "cell_type": "code",
   "execution_count": 60,
   "metadata": {},
   "outputs": [
    {
     "data": {
      "text/plain": [
       "<matplotlib.axes._subplots.AxesSubplot at 0x208d544be20>"
      ]
     },
     "execution_count": 60,
     "metadata": {},
     "output_type": "execute_result"
    },
    {
     "data": {
      "image/png": "[encoded data removed]",
      "text/plain": [
       "<Figure size 432x288 with 1 Axes>"
      ]
     },
     "metadata": {
      "needs_background": "light"
     },
     "output_type": "display_data"
    }
   ],
   "source": [
    "df.serv_m_deliv.hist()"
   ]
  },
  {
   "cell_type": "code",
   "execution_count": 73,
   "metadata": {},
   "outputs": [
    {
     "data": {
      "text/plain": [
       "<matplotlib.axes._subplots.AxesSubplot at 0x208cfdce400>"
      ]
     },
     "execution_count": 73,
     "metadata": {},
     "output_type": "execute_result"
    },
    {
     "data": {
      "image/png": "[encoded data removed]",
      "text/plain": [
       "<Figure size 432x288 with 1 Axes>"
      ]
     },
     "metadata": {
      "needs_background": "light"
     },
     "output_type": "display_data"
    }
   ],
   "source": [
    "df[df.serv_m_deliv < 0]['serv_m_deliv'].hist(bins=100)"
   ]
  },
  {
   "cell_type": "code",
   "execution_count": 68,
   "metadata": {},
   "outputs": [
    {
     "data": {
      "text/plain": [
       "'Ratio of orders that exeeded delivery distance: 0.12396787551763082'"
      ]
     },
     "execution_count": 68,
     "metadata": {},
     "output_type": "execute_result"
    }
   ],
   "source": [
    "f\"Ratio of orders that exeeded delivery distance: {sum(df.serv_m_deliv < 0) / len(df.serv_m_deliv)}\""
   ]
  },
  {
   "cell_type": "code",
   "execution_count": 77,
   "metadata": {},
   "outputs": [
    {
     "data": {
      "text/plain": [
       "'Ratio of orders that exeeded delivery distance: 0.03964110929853181'"
      ]
     },
     "execution_count": 77,
     "metadata": {},
     "output_type": "execute_result"
    }
   ],
   "source": [
    "f\"Ratio of orders that exeeded delivery distance: {sum(df.serv_m_deliv < -4) / len(df.serv_m_deliv)}\""
   ]
  },
  {
   "cell_type": "code",
   "execution_count": 74,
   "metadata": {},
   "outputs": [],
   "source": [
    "# For naive modeling can make cutoff: restaurant serving distance <= delivery distance + 4km "
   ]
  },
  {
   "cell_type": "markdown",
   "metadata": {},
   "source": [
    "### Estimating delivery distance with coords"
   ]
  },
  {
   "cell_type": "code",
   "execution_count": 124,
   "metadata": {},
   "outputs": [
    {
     "data": {
      "text/html": [
       "<div>\n",
       "<style scoped>\n",
       "    .dataframe tbody tr th:only-of-type {\n",
       "        vertical-align: middle;\n",
       "    }\n",
       "\n",
       "    .dataframe tbody tr th {\n",
       "        vertical-align: top;\n",
       "    }\n",
       "\n",
       "    .dataframe thead th {\n",
       "        text-align: right;\n",
       "    }\n",
       "</style>\n",
       "<table border=\"1\" class=\"dataframe\">\n",
       "  <thead>\n",
       "    <tr style=\"text-align: right;\">\n",
       "      <th></th>\n",
       "      <th>deliv_dist</th>\n",
       "      <th>lat_cust</th>\n",
       "      <th>long_cust</th>\n",
       "      <th>lat_rest</th>\n",
       "      <th>long_rest</th>\n",
       "      <th>serv_dist</th>\n",
       "      <th>serv_m_deliv</th>\n",
       "      <th>deliv_dist_estimation</th>\n",
       "      <th>deliv_dist_estimation_coef</th>\n",
       "    </tr>\n",
       "  </thead>\n",
       "  <tbody>\n",
       "    <tr>\n",
       "      <th>0</th>\n",
       "      <td>1.68</td>\n",
       "      <td>0.120613</td>\n",
       "      <td>0.543505</td>\n",
       "      <td>0.015623</td>\n",
       "      <td>0.531628</td>\n",
       "      <td>15.0</td>\n",
       "      <td>13.32</td>\n",
       "      <td>0.341858</td>\n",
       "      <td>2.619381</td>\n",
       "    </tr>\n",
       "    <tr>\n",
       "      <th>1</th>\n",
       "      <td>13.62</td>\n",
       "      <td>-0.822444</td>\n",
       "      <td>0.749720</td>\n",
       "      <td>0.015623</td>\n",
       "      <td>0.531628</td>\n",
       "      <td>15.0</td>\n",
       "      <td>1.38</td>\n",
       "      <td>1.027696</td>\n",
       "      <td>8.319830</td>\n",
       "    </tr>\n",
       "    <tr>\n",
       "      <th>2</th>\n",
       "      <td>2.61</td>\n",
       "      <td>0.039638</td>\n",
       "      <td>0.580358</td>\n",
       "      <td>0.015623</td>\n",
       "      <td>0.531628</td>\n",
       "      <td>15.0</td>\n",
       "      <td>12.39</td>\n",
       "      <td>0.269712</td>\n",
       "      <td>3.600303</td>\n",
       "    </tr>\n",
       "    <tr>\n",
       "      <th>3</th>\n",
       "      <td>6.91</td>\n",
       "      <td>0.290948</td>\n",
       "      <td>0.418965</td>\n",
       "      <td>0.015623</td>\n",
       "      <td>0.531628</td>\n",
       "      <td>15.0</td>\n",
       "      <td>8.09</td>\n",
       "      <td>0.622887</td>\n",
       "      <td>13.836851</td>\n",
       "    </tr>\n",
       "    <tr>\n",
       "      <th>4</th>\n",
       "      <td>6.91</td>\n",
       "      <td>0.290948</td>\n",
       "      <td>0.418965</td>\n",
       "      <td>0.015623</td>\n",
       "      <td>0.531628</td>\n",
       "      <td>15.0</td>\n",
       "      <td>8.09</td>\n",
       "      <td>0.622887</td>\n",
       "      <td>13.836851</td>\n",
       "    </tr>\n",
       "  </tbody>\n",
       "</table>\n",
       "</div>"
      ],
      "text/plain": [
       "   deliv_dist  lat_cust  long_cust  lat_rest  long_rest  serv_dist  \\\n",
       "0        1.68  0.120613   0.543505  0.015623   0.531628       15.0   \n",
       "1       13.62 -0.822444   0.749720  0.015623   0.531628       15.0   \n",
       "2        2.61  0.039638   0.580358  0.015623   0.531628       15.0   \n",
       "3        6.91  0.290948   0.418965  0.015623   0.531628       15.0   \n",
       "4        6.91  0.290948   0.418965  0.015623   0.531628       15.0   \n",
       "\n",
       "   serv_m_deliv  deliv_dist_estimation  deliv_dist_estimation_coef  \n",
       "0         13.32               0.341858                    2.619381  \n",
       "1          1.38               1.027696                    8.319830  \n",
       "2         12.39               0.269712                    3.600303  \n",
       "3          8.09               0.622887                   13.836851  \n",
       "4          8.09               0.622887                   13.836851  "
      ]
     },
     "execution_count": 124,
     "metadata": {},
     "output_type": "execute_result"
    }
   ],
   "source": [
    "#Euclidean - not working at all\n",
    "# df['deliv_dist_estimation'] = np.sqrt(np.power(df['lat_cust'] - df['lat_rest'], 2) + \n",
    "#                                       np.power(df['long_cust'] - df['long_rest'], 2))\n",
    "\n",
    "# Manhattan - not working \n",
    "df['deliv_dist_estimation'] = np.sqrt(np.abs(df['lat_cust'] - df['lat_rest']) + \n",
    "                                      np.abs(df['long_cust'] - df['long_rest']))\n",
    "\n",
    "# Haversine - not working at all\n",
    "# https://zindi.africa/competitions/akeed-restaurant-recommendation-challenge/discussions/1423\n",
    "# https://scikit-learn.org/stable/modules/generated/sklearn.metrics.pairwise.haversine_distances.html\n",
    "# df['deliv_dist_estimation'] = 2 * np.arcsin(np.sqrt(np.power(np.sin((df.lat_cust - df.long_cust) / 2), 2) + \n",
    "#                                                     np.power(np.sin((df.lat_rest - df.long_rest) / 2), 2) * \n",
    "#                                                     np.cos(df.lat_cust) * \n",
    "#                                                     np.cos(df.long_cust)))\n",
    "\n",
    "df.head()"
   ]
  },
  {
   "cell_type": "code",
   "execution_count": 125,
   "metadata": {},
   "outputs": [
    {
     "data": {
      "text/html": [
       "<div>\n",
       "<style scoped>\n",
       "    .dataframe tbody tr th:only-of-type {\n",
       "        vertical-align: middle;\n",
       "    }\n",
       "\n",
       "    .dataframe tbody tr th {\n",
       "        vertical-align: top;\n",
       "    }\n",
       "\n",
       "    .dataframe thead th {\n",
       "        text-align: right;\n",
       "    }\n",
       "</style>\n",
       "<table border=\"1\" class=\"dataframe\">\n",
       "  <thead>\n",
       "    <tr style=\"text-align: right;\">\n",
       "      <th></th>\n",
       "      <th>deliv_dist</th>\n",
       "      <th>lat_cust</th>\n",
       "      <th>long_cust</th>\n",
       "      <th>lat_rest</th>\n",
       "      <th>long_rest</th>\n",
       "      <th>serv_dist</th>\n",
       "      <th>serv_m_deliv</th>\n",
       "      <th>deliv_dist_estimation</th>\n",
       "      <th>deliv_dist_estimation_coef</th>\n",
       "    </tr>\n",
       "  </thead>\n",
       "  <tbody>\n",
       "    <tr>\n",
       "      <th>0</th>\n",
       "      <td>1.68</td>\n",
       "      <td>0.120613</td>\n",
       "      <td>0.543505</td>\n",
       "      <td>0.015623</td>\n",
       "      <td>0.531628</td>\n",
       "      <td>15.0</td>\n",
       "      <td>13.32</td>\n",
       "      <td>0.341858</td>\n",
       "      <td>4.914324</td>\n",
       "    </tr>\n",
       "    <tr>\n",
       "      <th>1</th>\n",
       "      <td>13.62</td>\n",
       "      <td>-0.822444</td>\n",
       "      <td>0.749720</td>\n",
       "      <td>0.015623</td>\n",
       "      <td>0.531628</td>\n",
       "      <td>15.0</td>\n",
       "      <td>1.38</td>\n",
       "      <td>1.027696</td>\n",
       "      <td>13.252948</td>\n",
       "    </tr>\n",
       "    <tr>\n",
       "      <th>2</th>\n",
       "      <td>2.61</td>\n",
       "      <td>0.039638</td>\n",
       "      <td>0.580358</td>\n",
       "      <td>0.015623</td>\n",
       "      <td>0.531628</td>\n",
       "      <td>15.0</td>\n",
       "      <td>12.39</td>\n",
       "      <td>0.269712</td>\n",
       "      <td>9.677001</td>\n",
       "    </tr>\n",
       "    <tr>\n",
       "      <th>3</th>\n",
       "      <td>6.91</td>\n",
       "      <td>0.290948</td>\n",
       "      <td>0.418965</td>\n",
       "      <td>0.015623</td>\n",
       "      <td>0.531628</td>\n",
       "      <td>15.0</td>\n",
       "      <td>8.09</td>\n",
       "      <td>0.622887</td>\n",
       "      <td>11.093498</td>\n",
       "    </tr>\n",
       "    <tr>\n",
       "      <th>4</th>\n",
       "      <td>6.91</td>\n",
       "      <td>0.290948</td>\n",
       "      <td>0.418965</td>\n",
       "      <td>0.015623</td>\n",
       "      <td>0.531628</td>\n",
       "      <td>15.0</td>\n",
       "      <td>8.09</td>\n",
       "      <td>0.622887</td>\n",
       "      <td>11.093498</td>\n",
       "    </tr>\n",
       "  </tbody>\n",
       "</table>\n",
       "</div>"
      ],
      "text/plain": [
       "   deliv_dist  lat_cust  long_cust  lat_rest  long_rest  serv_dist  \\\n",
       "0        1.68  0.120613   0.543505  0.015623   0.531628       15.0   \n",
       "1       13.62 -0.822444   0.749720  0.015623   0.531628       15.0   \n",
       "2        2.61  0.039638   0.580358  0.015623   0.531628       15.0   \n",
       "3        6.91  0.290948   0.418965  0.015623   0.531628       15.0   \n",
       "4        6.91  0.290948   0.418965  0.015623   0.531628       15.0   \n",
       "\n",
       "   serv_m_deliv  deliv_dist_estimation  deliv_dist_estimation_coef  \n",
       "0         13.32               0.341858                    4.914324  \n",
       "1          1.38               1.027696                   13.252948  \n",
       "2         12.39               0.269712                    9.677001  \n",
       "3          8.09               0.622887                   11.093498  \n",
       "4          8.09               0.622887                   11.093498  "
      ]
     },
     "execution_count": 125,
     "metadata": {},
     "output_type": "execute_result"
    }
   ],
   "source": [
    "df['deliv_dist_estimation_coef'] = df['deliv_dist'] / df['deliv_dist_estimation']\n",
    "df.head()"
   ]
  },
  {
   "cell_type": "code",
   "execution_count": 126,
   "metadata": {},
   "outputs": [
    {
     "data": {
      "text/plain": [
       "<matplotlib.axes._subplots.AxesSubplot at 0x208de396790>"
      ]
     },
     "execution_count": 126,
     "metadata": {},
     "output_type": "execute_result"
    },
    {
     "data": {
      "image/png": "[encoded data removed]",
      "text/plain": [
       "<Figure size 432x288 with 1 Axes>"
      ]
     },
     "metadata": {
      "needs_background": "light"
     },
     "output_type": "display_data"
    }
   ],
   "source": [
    "df[df.deliv_dist_estimation_coef < 50]['deliv_dist_estimation_coef'].hist(bins = 100)"
   ]
  },
  {
   "cell_type": "code",
   "execution_count": 127,
   "metadata": {},
   "outputs": [
    {
     "data": {
      "text/plain": [
       "34"
      ]
     },
     "execution_count": 127,
     "metadata": {},
     "output_type": "execute_result"
    }
   ],
   "source": [
    "sum(df.deliv_dist_estimation_coef > 50)"
   ]
  },
  {
   "cell_type": "code",
   "execution_count": 128,
   "metadata": {},
   "outputs": [],
   "source": [
    "# Can use upper-bound of Manhattan distance"
   ]
  },
  {
   "cell_type": "code",
   "execution_count": null,
   "metadata": {},
   "outputs": [],
   "source": []
  }
 ],
 "metadata": {
  "kernelspec": {
   "display_name": "Python 3",
   "language": "python",
   "name": "python3"
  },
  "language_info": {
   "codemirror_mode": {
    "name": "ipython",
    "version": 3
   },
   "file_extension": ".py",
   "mimetype": "text/x-python",
   "name": "python",
   "nbconvert_exporter": "python",
   "pygments_lexer": "ipython3",
   "version": "3.8.3"
  }
 },
 "nbformat": 4,
 "nbformat_minor": 4
}
